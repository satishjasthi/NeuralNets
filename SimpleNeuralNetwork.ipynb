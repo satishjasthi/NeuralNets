{
 "cells": [
  {
   "cell_type": "markdown",
   "metadata": {},
   "source": [
    "### Understand Simple Neural Network arch"
   ]
  },
  {
   "cell_type": "code",
   "execution_count": 38,
   "metadata": {
    "collapsed": true
   },
   "outputs": [],
   "source": [
    "#imports!\n",
    "import tensorflow as tf\n",
    "import numpy as np\n",
    "import os,sys\n",
    "from IPython.display import Image"
   ]
  },
  {
   "cell_type": "markdown",
   "metadata": {},
   "source": [
    "### Visualize Neural Nets\n",
    "<img src=\"imgs/nn.png\">"
   ]
  },
  {
   "cell_type": "markdown",
   "metadata": {},
   "source": [
    "#### An example to show how tf.multiply does element wise multiplication "
   ]
  },
  {
   "cell_type": "code",
   "execution_count": 39,
   "metadata": {},
   "outputs": [
    {
     "name": "stdout",
     "output_type": "stream",
     "text": [
      "[[2 2 2 3]\n",
      " [4 5 4 5]\n",
      " [3 3 3 3]]\n",
      "\n",
      "\n",
      "[[2 2 2 2]\n",
      " [2 2 2 2]\n",
      " [2 2 2 2]]\n"
     ]
    }
   ],
   "source": [
    "with tf.Graph().as_default() as graph:\n",
    "    x = tf.ones((3,4),name='x',dtype=tf.int32)\n",
    "    y_= tf.convert_to_tensor(np.array(((2,2,2))).reshape(3,1),name=\"y\",dtype=tf.int32)\n",
    "    y = tf.convert_to_tensor(np.array(((2,2,2),(3,4,5),(4,5,3),(3,3,3))).reshape(3,4),name=\"y\",dtype=tf.int32)\n",
    "    mul = tf.multiply(x,y,name='mul')\n",
    "    mul_ = tf.multiply(x,y_,name='mul')\n",
    "\n",
    "    with tf.Session() as sess:\n",
    "        print \"tf.multiply without broadcasting\"\n",
    "        print sess.run(mul)\n",
    "        print \"\\n\"\n",
    "        print \"tf.multiply with broadcasting\"\n",
    "        print sess.run(mul_)"
   ]
  },
  {
   "cell_type": "code",
   "execution_count": 42,
   "metadata": {},
   "outputs": [
    {
     "data": {
      "text/plain": [
       "2"
      ]
     },
     "execution_count": 42,
     "metadata": {},
     "output_type": "execute_result"
    }
   ],
   "source": [
    "with tf.Graph().as_default() as graph:\n",
    "    \n",
    "    #inputs from input layer,which is just 3 values\n",
    "    x = tf.convert_to_tensor(np.random.normal(size = (3,1))) \n",
    "    #or\n",
    "    x = tf.random_normal((3,1),name=\"x\")\n",
    "    \n",
    "    '''\n",
    "    weights are of shape (3,4) because there are three features for each \n",
    "    sample/example and each feature needs to connect with 4 neurons in hidden\n",
    "    layer_1\n",
    "    '''\n",
    "    w1 = tf.convert_to_tensor(np.random.normal(size=(3,4)))\n",
    "    #or\n",
    "    w1 = tf.random_normal((3,4),name=\"w1\")\n",
    "    \n",
    "    #hidden layer, where we get both z = wT*x and a = sigmoid(z)\n",
    "    hl1 = tf.reduce_sum(tf.multiply(w1,x),name=\"hl1\")\n",
    "    b1 = tf.ones((w1.shape[1],1),name=\"b1\")\n",
    "    a1 = tf.sigmoid(hl1+b1,name=\"a1\")\n",
    "    \n",
    "    '''\n",
    "    weights between hidden layer and output layer is of shape(4,2), since there\n",
    "    are 4 inputs and two outputs\n",
    "    '''\n",
    "    w2 = tf.random_normal((4,2),name=\"w2\")\n",
    "    \n",
    "    #output layer\n",
    "    ol = tf.reduce_sum(tf.multiply(w2,a1),name=\"ol\")\n",
    "    b2 = tf.ones((w2.shape[1],1),name=\"b2\")\n",
    "    a2 = tf.sigmoid(ol+b2,name=\"output\")\n",
    "    \n",
    "    with tf.Session(graph=graph) as sess:\n",
    "        writer = tf.summary.FileWriter(\"./graphs\",graph=sess.graph)\n",
    "        sess.run(a1)\n",
    "        writer.close()\n",
    "os.system(\"tensorboard --logdir=\"+\"./graphs\")\n",
    "        \n"
   ]
  },
  {
   "cell_type": "code",
   "execution_count": 53,
   "metadata": {},
   "outputs": [
    {
     "data": {
      "text/plain": [
       "2"
      ]
     },
     "execution_count": 53,
     "metadata": {},
     "output_type": "execute_result"
    }
   ],
   "source": [
    "a = tf.constant(2,name = \"a\")\n",
    "b = tf.constant(3,name = \"b\")\n",
    "c = tf.add(a,b,name=\"add\")\n",
    "with tf.Session() as sess:\n",
    "    writer = tf.summary.FileWriter(\"./graphs\",graph=sess.graph)\n",
    "    sess.run(c)\n",
    "    writer.close()\n",
    "os.system(\"tensorboard --logdir=\"+\"./graphs\")"
   ]
  },
  {
   "cell_type": "code",
   "execution_count": null,
   "metadata": {
    "collapsed": true
   },
   "outputs": [],
   "source": []
  }
 ],
 "metadata": {
  "kernelspec": {
   "display_name": "Python 2",
   "language": "python",
   "name": "python2"
  },
  "language_info": {
   "codemirror_mode": {
    "name": "ipython",
    "version": 2
   },
   "file_extension": ".py",
   "mimetype": "text/x-python",
   "name": "python",
   "nbconvert_exporter": "python",
   "pygments_lexer": "ipython2",
   "version": "2.7.12"
  }
 },
 "nbformat": 4,
 "nbformat_minor": 2
}
